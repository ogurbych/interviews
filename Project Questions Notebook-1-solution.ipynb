{
 "cells": [
  {
   "cell_type": "markdown",
   "metadata": {},
   "source": [
    "### Project - MovieLens Data Analysis\n",
    "\n",
    "The GroupLens Research Project is a research group in the Department of Computer Science and Engineering at the University of Minnesota. The data is widely used for collaborative filtering and other filtering solutions. However, we will be using this data to act as a means to demonstrate our skill in using Python to “play” with data.\n",
    "\n",
    "#### Domain \n",
    "Internet and Entertainment\n",
    "\n",
    "**Note that the project will need you to apply the concepts of groupby and merging extensively.**"
   ]
  },
  {
   "cell_type": "markdown",
   "metadata": {},
   "source": [
    "#### 1. Import the necessary packages - 2.5 marks"
   ]
  },
  {
   "cell_type": "code",
   "execution_count": 75,
   "metadata": {},
   "outputs": [],
   "source": [
    "import pandas as pd\n",
    "import numpy as np\n",
    "import matplotlib.pyplot as plt\n",
    "import seaborn as sns\n",
    "\n",
    "sns.set_style(\"ticks\")\n",
    "pd.set_option(\"display.max_columns\", None)"
   ]
  },
  {
   "cell_type": "markdown",
   "metadata": {},
   "source": [
    "#### 2. Read the 3 datasets into dataframes - 2.5 marks"
   ]
  },
  {
   "cell_type": "code",
   "execution_count": 3,
   "metadata": {
    "scrolled": true
   },
   "outputs": [],
   "source": [
    "data_df = pd.read_csv(\"Data.csv\")\n",
    "item_df = pd.read_csv(\"item.csv\")\n",
    "user_df = pd.read_csv(\"user.csv\")"
   ]
  },
  {
   "cell_type": "markdown",
   "metadata": {},
   "source": [
    "#### 3. Apply info, shape, describe, and find the number of missing values in the data - 5 marks"
   ]
  },
  {
   "cell_type": "markdown",
   "metadata": {},
   "source": [
    "**3.1 Info**"
   ]
  },
  {
   "cell_type": "code",
   "execution_count": 5,
   "metadata": {},
   "outputs": [
    {
     "name": "stdout",
     "output_type": "stream",
     "text": [
      "<class 'pandas.core.frame.DataFrame'>\n",
      "RangeIndex: 100000 entries, 0 to 99999\n",
      "Data columns (total 4 columns):\n",
      "user id      100000 non-null int64\n",
      "movie id     100000 non-null int64\n",
      "rating       100000 non-null int64\n",
      "timestamp    100000 non-null int64\n",
      "dtypes: int64(4)\n",
      "memory usage: 3.1 MB\n"
     ]
    }
   ],
   "source": [
    "data_df.info()"
   ]
  },
  {
   "cell_type": "code",
   "execution_count": 6,
   "metadata": {},
   "outputs": [
    {
     "name": "stdout",
     "output_type": "stream",
     "text": [
      "<class 'pandas.core.frame.DataFrame'>\n",
      "RangeIndex: 1681 entries, 0 to 1680\n",
      "Data columns (total 22 columns):\n",
      "movie id        1681 non-null int64\n",
      "movie title     1681 non-null object\n",
      "release date    1681 non-null object\n",
      "unknown         1681 non-null int64\n",
      "Action          1681 non-null int64\n",
      "Adventure       1681 non-null int64\n",
      "Animation       1681 non-null int64\n",
      "Childrens       1681 non-null int64\n",
      "Comedy          1681 non-null int64\n",
      "Crime           1681 non-null int64\n",
      "Documentary     1681 non-null int64\n",
      "Drama           1681 non-null int64\n",
      "Fantasy         1681 non-null int64\n",
      "Film-Noir       1681 non-null int64\n",
      "Horror          1681 non-null int64\n",
      "Musical         1681 non-null int64\n",
      "Mystery         1681 non-null int64\n",
      "Romance         1681 non-null int64\n",
      "Sci-Fi          1681 non-null int64\n",
      "Thriller        1681 non-null int64\n",
      "War             1681 non-null int64\n",
      "Western         1681 non-null int64\n",
      "dtypes: int64(20), object(2)\n",
      "memory usage: 289.0+ KB\n"
     ]
    }
   ],
   "source": [
    "item_df.info() "
   ]
  },
  {
   "cell_type": "code",
   "execution_count": 7,
   "metadata": {},
   "outputs": [
    {
     "name": "stdout",
     "output_type": "stream",
     "text": [
      "<class 'pandas.core.frame.DataFrame'>\n",
      "RangeIndex: 943 entries, 0 to 942\n",
      "Data columns (total 5 columns):\n",
      "user id       943 non-null int64\n",
      "age           943 non-null int64\n",
      "gender        943 non-null object\n",
      "occupation    943 non-null object\n",
      "zip code      943 non-null object\n",
      "dtypes: int64(2), object(3)\n",
      "memory usage: 36.9+ KB\n"
     ]
    }
   ],
   "source": [
    "user_df.info() "
   ]
  },
  {
   "cell_type": "markdown",
   "metadata": {},
   "source": [
    "**3.2 Shape**"
   ]
  },
  {
   "cell_type": "code",
   "execution_count": 10,
   "metadata": {},
   "outputs": [
    {
     "name": "stdout",
     "output_type": "stream",
     "text": [
      "data_df shape: (100000, 4)\n",
      "item_df shape: (1681, 22)\n",
      "user_df shape: (943, 5)\n"
     ]
    }
   ],
   "source": [
    "print('data_df shape:', data_df.shape)\n",
    "print('item_df shape:', item_df.shape)\n",
    "print('user_df shape:', user_df.shape)"
   ]
  },
  {
   "cell_type": "markdown",
   "metadata": {},
   "source": [
    "**3.3 Describe**"
   ]
  },
  {
   "cell_type": "code",
   "execution_count": 15,
   "metadata": {},
   "outputs": [
    {
     "name": "stdout",
     "output_type": "stream",
     "text": [
      "data_df describe:\n",
      "            user id       movie id         rating     timestamp\n",
      "count  100000.00000  100000.000000  100000.000000  1.000000e+05\n",
      "mean      462.48475     425.530130       3.529860  8.835289e+08\n",
      "std       266.61442     330.798356       1.125674  5.343856e+06\n",
      "min         1.00000       1.000000       1.000000  8.747247e+08\n",
      "25%       254.00000     175.000000       3.000000  8.794487e+08\n",
      "50%       447.00000     322.000000       4.000000  8.828269e+08\n",
      "75%       682.00000     631.000000       4.000000  8.882600e+08\n",
      "max       943.00000    1682.000000       5.000000  8.932866e+08\n",
      "\n",
      "item_df describe:\n",
      "          movie id      unknown       Action    Adventure    Animation  \\\n",
      "count  1681.000000  1681.000000  1681.000000  1681.000000  1681.000000   \n",
      "mean    841.841761     0.000595     0.149316     0.080309     0.024985   \n",
      "std     485.638077     0.024390     0.356506     0.271852     0.156126   \n",
      "min       1.000000     0.000000     0.000000     0.000000     0.000000   \n",
      "25%     422.000000     0.000000     0.000000     0.000000     0.000000   \n",
      "50%     842.000000     0.000000     0.000000     0.000000     0.000000   \n",
      "75%    1262.000000     0.000000     0.000000     0.000000     0.000000   \n",
      "max    1682.000000     1.000000     1.000000     1.000000     1.000000   \n",
      "\n",
      "         Childrens       Comedy        Crime  Documentary        Drama  \\\n",
      "count  1681.000000  1681.000000  1681.000000  1681.000000  1681.000000   \n",
      "mean      0.072576     0.300416     0.064842     0.029744     0.431291   \n",
      "std       0.259516     0.458576     0.246321     0.169931     0.495404   \n",
      "min       0.000000     0.000000     0.000000     0.000000     0.000000   \n",
      "25%       0.000000     0.000000     0.000000     0.000000     0.000000   \n",
      "50%       0.000000     0.000000     0.000000     0.000000     0.000000   \n",
      "75%       0.000000     1.000000     0.000000     0.000000     1.000000   \n",
      "max       1.000000     1.000000     1.000000     1.000000     1.000000   \n",
      "\n",
      "           Fantasy    Film-Noir       Horror      Musical      Mystery  \\\n",
      "count  1681.000000  1681.000000  1681.000000  1681.000000  1681.000000   \n",
      "mean      0.013087     0.014277     0.054729     0.033314     0.036288   \n",
      "std       0.113683     0.118667     0.227519     0.179507     0.187061   \n",
      "min       0.000000     0.000000     0.000000     0.000000     0.000000   \n",
      "25%       0.000000     0.000000     0.000000     0.000000     0.000000   \n",
      "50%       0.000000     0.000000     0.000000     0.000000     0.000000   \n",
      "75%       0.000000     0.000000     0.000000     0.000000     0.000000   \n",
      "max       1.000000     1.000000     1.000000     1.000000     1.000000   \n",
      "\n",
      "           Romance       Sci-Fi     Thriller          War      Western  \n",
      "count  1681.000000  1681.000000  1681.000000  1681.000000  1681.000000  \n",
      "mean      0.146936     0.060083     0.149316     0.042237     0.016062  \n",
      "std       0.354148     0.237712     0.356506     0.201189     0.125751  \n",
      "min       0.000000     0.000000     0.000000     0.000000     0.000000  \n",
      "25%       0.000000     0.000000     0.000000     0.000000     0.000000  \n",
      "50%       0.000000     0.000000     0.000000     0.000000     0.000000  \n",
      "75%       0.000000     0.000000     0.000000     0.000000     0.000000  \n",
      "max       1.000000     1.000000     1.000000     1.000000     1.000000  \n",
      "\n",
      "user_df describe:\n",
      "          user id         age\n",
      "count  943.000000  943.000000\n",
      "mean   472.000000   34.051962\n",
      "std    272.364951   12.192740\n",
      "min      1.000000    7.000000\n",
      "25%    236.500000   25.000000\n",
      "50%    472.000000   31.000000\n",
      "75%    707.500000   43.000000\n",
      "max    943.000000   73.000000\n"
     ]
    }
   ],
   "source": [
    "print('data_df describe:')\n",
    "print(data_df.describe())\n",
    "print()\n",
    "print('item_df describe:')\n",
    "print(item_df.describe())\n",
    "print()\n",
    "print('user_df describe:')\n",
    "print(user_df.describe())"
   ]
  },
  {
   "cell_type": "markdown",
   "metadata": {},
   "source": [
    "**3.4 Number of missing values**"
   ]
  },
  {
   "cell_type": "code",
   "execution_count": 14,
   "metadata": {},
   "outputs": [
    {
     "name": "stdout",
     "output_type": "stream",
     "text": [
      "data_df number of NaNs:\n",
      "user id      0\n",
      "movie id     0\n",
      "rating       0\n",
      "timestamp    0\n",
      "dtype: int64\n",
      "\n",
      "item_df number of NaNs:\n",
      "movie id        0\n",
      "movie title     0\n",
      "release date    0\n",
      "unknown         0\n",
      "Action          0\n",
      "Adventure       0\n",
      "Animation       0\n",
      "Childrens       0\n",
      "Comedy          0\n",
      "Crime           0\n",
      "Documentary     0\n",
      "Drama           0\n",
      "Fantasy         0\n",
      "Film-Noir       0\n",
      "Horror          0\n",
      "Musical         0\n",
      "Mystery         0\n",
      "Romance         0\n",
      "Sci-Fi          0\n",
      "Thriller        0\n",
      "War             0\n",
      "Western         0\n",
      "dtype: int64\n",
      "\n",
      "user_df number of NaNs:\n",
      "user id       0\n",
      "age           0\n",
      "gender        0\n",
      "occupation    0\n",
      "zip code      0\n",
      "dtype: int64\n"
     ]
    }
   ],
   "source": [
    "print('data_df number of NaNs:')\n",
    "print(data_df.isna().sum())\n",
    "print()\n",
    "print('item_df number of NaNs:')\n",
    "print(item_df.isna().sum())\n",
    "print()\n",
    "print('user_df number of NaNs:')\n",
    "print(user_df.isna().sum())"
   ]
  },
  {
   "cell_type": "markdown",
   "metadata": {},
   "source": [
    "#### 4. Find the number of movies per genre using the item data - 5 marks"
   ]
  },
  {
   "cell_type": "code",
   "execution_count": 21,
   "metadata": {},
   "outputs": [
    {
     "data": {
      "text/plain": [
       "Action         251\n",
       "Adventure      135\n",
       "Animation       42\n",
       "Childrens      122\n",
       "Comedy         505\n",
       "Crime          109\n",
       "Documentary     50\n",
       "Drama          725\n",
       "Fantasy         22\n",
       "Film-Noir       24\n",
       "Horror          92\n",
       "Musical         56\n",
       "Mystery         61\n",
       "Romance        247\n",
       "Sci-Fi         101\n",
       "Thriller       251\n",
       "War             71\n",
       "Western         27\n",
       "dtype: int64"
      ]
     },
     "execution_count": 21,
     "metadata": {},
     "output_type": "execute_result"
    }
   ],
   "source": [
    "# use sum on the default axis\n",
    "item_df.iloc[:,4:].sum()"
   ]
  },
  {
   "cell_type": "markdown",
   "metadata": {},
   "source": [
    "#### 5. Find the movies that have more than one genre - 2.5 marks"
   ]
  },
  {
   "cell_type": "code",
   "execution_count": 33,
   "metadata": {},
   "outputs": [
    {
     "name": "stdout",
     "output_type": "stream",
     "text": [
      "There are 767 movies with more than one genre\n"
     ]
    }
   ],
   "source": [
    "#hint: use sum on the axis = 1\n",
    "\n",
    "# set `movie id` columns as index\n",
    "item_df = item_df.set_index('movie id')\n",
    "\n",
    "# separate columns with genres\n",
    "genres_df = item_df.iloc[:,4:]\n",
    "\n",
    "# collect movie ids with more than one genre\n",
    "multiple_genres_movie_ids = set(genres_df[genres_df.sum(axis = 1) > 1].index)\n",
    "\n",
    "print('There are', len(multiple_genres_movie_ids), 'movies with more than one genre')"
   ]
  },
  {
   "cell_type": "markdown",
   "metadata": {},
   "source": [
    "#### 6. Drop the movie where the genre is unknown - 2.5 marks"
   ]
  },
  {
   "cell_type": "code",
   "execution_count": 34,
   "metadata": {},
   "outputs": [
    {
     "name": "stdout",
     "output_type": "stream",
     "text": [
      "item_df shape before: (1681, 21)\n",
      "item_df shape after: (1680, 21)\n"
     ]
    }
   ],
   "source": [
    "# drop rows by index\n",
    "print('item_df shape before:', item_df.shape)\n",
    "item_df.drop(item_df[item_df.unknown == 1].index, inplace=True)\n",
    "print('item_df shape after:', item_df.shape)"
   ]
  },
  {
   "cell_type": "markdown",
   "metadata": {},
   "source": [
    "**Summary: one movie with unknown genre was removed**"
   ]
  },
  {
   "cell_type": "markdown",
   "metadata": {},
   "source": [
    "### 7. Univariate plots of columns: 'rating', 'Age', 'release year', 'Gender' and 'Occupation' - 10 marks"
   ]
  },
  {
   "cell_type": "code",
   "execution_count": null,
   "metadata": {},
   "outputs": [],
   "source": [
    "# HINT: use bar plot for rating, countplot/distplot for age; release date and countplot for gender and occupation.\n",
    "# HINT: Please refer to the below snippet to understand how to get to release year from release date. You can use str.split()\n",
    "# as depicted below"
   ]
  },
  {
   "cell_type": "markdown",
   "metadata": {},
   "source": [
    "#### 7.1 Rating bar plot"
   ]
  },
  {
   "cell_type": "code",
   "execution_count": 44,
   "metadata": {},
   "outputs": [
    {
     "data": {
      "text/plain": [
       "Text(0, 0.5, 'Number of ratings')"
      ]
     },
     "execution_count": 44,
     "metadata": {},
     "output_type": "execute_result"
    },
    {
     "data": {
      "image/png": "[encoded data removed]",
      "text/plain": [
       "<Figure size 720x432 with 1 Axes>"
      ]
     },
     "metadata": {},
     "output_type": "display_data"
    }
   ],
   "source": [
    "fig = plt.figure(figsize=(10,6))\n",
    "data_df.rating.hist(bins=5, grid=False)\n",
    "plt.xticks(range(1,6))\n",
    "fig.suptitle(\"User rating histogram\", fontsize=20)\n",
    "plt.xlabel(\"Rating\")\n",
    "plt.ylabel(\"Number of ratings\")"
   ]
  },
  {
   "cell_type": "markdown",
   "metadata": {},
   "source": [
    "#### 7.2 Age distplot"
   ]
  },
  {
   "cell_type": "code",
   "execution_count": 76,
   "metadata": {},
   "outputs": [
    {
     "data": {
      "text/plain": [
       "Text(0.5, 0.98, 'Age histogram')"
      ]
     },
     "execution_count": 76,
     "metadata": {},
     "output_type": "execute_result"
    },
    {
     "data": {
      "image/png": "[encoded data removed]",
      "text/plain": [
       "<Figure size 720x432 with 1 Axes>"
      ]
     },
     "metadata": {},
     "output_type": "display_data"
    }
   ],
   "source": [
    "fig = plt.figure(figsize=(10,6))\n",
    "sns.histplot(user_df.age)\n",
    "fig.suptitle(\"Age histogram\", fontsize=20)"
   ]
  },
  {
   "cell_type": "markdown",
   "metadata": {},
   "source": [
    "#### 7.3 Release date distplot"
   ]
  },
  {
   "cell_type": "code",
   "execution_count": 72,
   "metadata": {},
   "outputs": [
    {
     "data": {
      "text/plain": [
       "Text(0, 0.5, 'Year')"
      ]
     },
     "execution_count": 72,
     "metadata": {},
     "output_type": "execute_result"
    },
    {
     "data": {
      "image/png": "[encoded data removed]",
      "text/plain": [
       "<Figure size 720x432 with 1 Axes>"
      ]
     },
     "metadata": {},
     "output_type": "display_data"
    }
   ],
   "source": [
    "fig = plt.figure(figsize=(10,6))\n",
    "release_years = pd.to_datetime(item_df['release date'], errors='coerce').dt.year.astype(int)\n",
    "release_years.hist(bins=release_years.nunique(), grid=False)\n",
    "fig.suptitle(\"Release year histogram\", fontsize=20)\n",
    "plt.xlabel(\"Movies released\")\n",
    "plt.ylabel(\"Year\")"
   ]
  },
  {
   "cell_type": "markdown",
   "metadata": {},
   "source": [
    "#### 7.4 Gender countplot"
   ]
  },
  {
   "cell_type": "code",
   "execution_count": 77,
   "metadata": {},
   "outputs": [
    {
     "data": {
      "text/plain": [
       "Text(0.5, 0.98, 'Gender histogram')"
      ]
     },
     "execution_count": 77,
     "metadata": {},
     "output_type": "execute_result"
    },
    {
     "data": {
      "image/png": "[encoded data removed]",
      "text/plain": [
       "<Figure size 144x432 with 1 Axes>"
      ]
     },
     "metadata": {},
     "output_type": "display_data"
    }
   ],
   "source": [
    "fig = plt.figure(figsize=(2,6))\n",
    "sns.histplot(user_df.gender)\n",
    "fig.suptitle(\"Gender histogram\", fontsize=20)"
   ]
  },
  {
   "cell_type": "markdown",
   "metadata": {},
   "source": [
    "#### 7.5 Occupation countplot"
   ]
  },
  {
   "cell_type": "code",
   "execution_count": 78,
   "metadata": {},
   "outputs": [
    {
     "data": {
      "text/plain": [
       "Text(0.5, 0.98, 'Occupation histogram')"
      ]
     },
     "execution_count": 78,
     "metadata": {},
     "output_type": "execute_result"
    },
    {
     "data": {
      "image/png": "[encoded data removed]",
      "text/plain": [
       "<Figure size 864x432 with 1 Axes>"
      ]
     },
     "metadata": {},
     "output_type": "display_data"
    }
   ],
   "source": [
    "fig = plt.figure(figsize=(12,6))\n",
    "ax = sns.histplot(user_df.occupation)\n",
    "plt.xticks(rotation=90)\n",
    "fig.suptitle(\"Occupation histogram\", fontsize=20)"
   ]
  },
  {
   "cell_type": "code",
   "execution_count": 372,
   "metadata": {},
   "outputs": [
    {
     "name": "stdout",
     "output_type": "stream",
     "text": [
      "brown\n",
      "brown\n",
      "brown\n"
     ]
    }
   ],
   "source": [
    "a = 'My*cat*is*brown'\n",
    "print(a.split('*')[3])\n",
    "\n",
    "#similarly, the release year needs to be taken out from release date\n",
    "\n",
    "#also you can simply slice existing string to get the desired data, if we want to take out the colour of the cat\n",
    "\n",
    "print(a[10:])\n",
    "print(a[-5:])"
   ]
  },
  {
   "cell_type": "code",
   "execution_count": null,
   "metadata": {},
   "outputs": [],
   "source": [
    "#your answers here"
   ]
  },
  {
   "cell_type": "markdown",
   "metadata": {},
   "source": [
    "### 8. Visualize how popularity of genres has changed over the years - 10 marks\n",
    "\n",
    "Note that you need to use the number of releases in a year as a parameter of popularity of a genre"
   ]
  },
  {
   "cell_type": "markdown",
   "metadata": {},
   "source": [
    "Hint \n",
    "\n",
    "1: you need to reach to a data frame where the release year is the index and the genre is the column names (one cell shows the number of release in a year in one genre) or vice versa.\n",
    "Once that is achieved, you can either use univariate plots or can use the heatmap to visualise all the changes over the years \n",
    "in one go. \n",
    "\n",
    "Hint 2: Use groupby on the relevant column and use sum() on the same to find out the nuumber of releases in a year/genre.  "
   ]
  },
  {
   "cell_type": "markdown",
   "metadata": {},
   "source": [
    "#### 8.1 Popularity of genres over the years - all-in-one chart"
   ]
  },
  {
   "cell_type": "code",
   "execution_count": 116,
   "metadata": {},
   "outputs": [
    {
     "data": {
      "text/plain": [
       "Text(0.5, 0.98, 'Popularity of genres over the years')"
      ]
     },
     "execution_count": 116,
     "metadata": {},
     "output_type": "execute_result"
    },
    {
     "data": {
      "image/png": "[encoded data removed]",
      "text/plain": [
       "<Figure size 1008x576 with 1 Axes>"
      ]
     },
     "metadata": {},
     "output_type": "display_data"
    }
   ],
   "source": [
    "#Your answer here\n",
    "genres_df = item_df.iloc[:,4:]\n",
    "genres_df['release_year'] = pd.to_datetime(item_df['release date'], errors='coerce').dt.year.astype(int)\n",
    "genres_df.sort_values(by='release_year', inplace=True)\n",
    "fig = plt.figure(figsize=(14,8))\n",
    "sns.lineplot(data=genres_df.groupby('release_year').sum(), palette='viridis')\n",
    "fig.suptitle(\"Popularity of genres over the years\", fontsize=20)"
   ]
  },
  {
   "cell_type": "markdown",
   "metadata": {},
   "source": [
    "#### 8.2 Popularity of genres over the years - a chart for each genre"
   ]
  },
  {
   "cell_type": "code",
   "execution_count": 202,
   "metadata": {},
   "outputs": [
    {
     "data": {
      "image/png": "[encoded data removed]",
      "text/plain": [
       "<Figure size 1800x1800 with 18 Axes>"
      ]
     },
     "metadata": {},
     "output_type": "display_data"
    }
   ],
   "source": [
    "genres = list(genres_df.columns)\n",
    "if 'release_year' in genres:\n",
    "    genres.remove('release_year')\n",
    "genre_groups = genres_df.groupby('release_year', as_index=False).sum()\n",
    "fig, ax = plt.subplots(nrows=6, ncols=3, figsize=(25,25), sharex=True, sharey=True)\n",
    "i = 0\n",
    "\n",
    "for row in ax:\n",
    "    for col in row:\n",
    "        col.plot(genre_groups['release_year'], genre_groups[genres[i]])\n",
    "        col.set_title(genres[i])\n",
    "        i += 1"
   ]
  },
  {
   "cell_type": "markdown",
   "metadata": {},
   "source": [
    "### 9. Find the top 25 movies, each having a minimum of 100 ratings - 10 marks\n",
    "\n",
    "Hint : \n",
    "1. First find the movies that have more than 100 ratings(use merge, groupby and count). Extract the movie titles in a list.\n",
    "2. Find the average rating of all the movies and sort them in the descending order. You will have to use the .merge() function to reach to a data set through which you can get the names and the average rating.\n",
    "3. Use isin(list obtained from 1) to filter out the movies which have more than 100 ratings.\n",
    "\n",
    "Note: This question will need you to research about groupby and apply your findings. You can find more on groupby on https://realpython.com/pandas-groupby/."
   ]
  },
  {
   "cell_type": "code",
   "execution_count": 176,
   "metadata": {},
   "outputs": [
    {
     "name": "stdout",
     "output_type": "stream",
     "text": [
      "There are 338 movies that have more than 100 ratings. Here is the list:\n",
      "['Toy Story ', 'GoldenEye ', 'Get Shorty ', 'Twelve Monkeys ', 'Babe ', 'Dead Man Walking ', 'Seven (Se7en) ', 'Usual Suspects, The ', 'Mighty Aphrodite ', 'Postino, Il ', \"Mr. Holland's Opus \", 'Braveheart ', 'Taxi Driver ', 'Rumble in the Bronx ', 'Birdcage, The ', 'Apollo 13 ', 'Batman Forever ', 'Crimson Tide ', 'Net, The ', 'Clerks ', 'Ed Wood ', 'Hoop Dreams ', 'Star Wars ', 'Natural Born Killers ', 'Outbreak ', 'Professional, The ', 'Pulp Fiction ', 'Quiz Show ', 'Stargate ', 'Shawshank Redemption, The ', \"What's Eating Gilbert Grape \", 'While You Were Sleeping ', 'Ace Ventura: Pet Detective ', 'Crow, The ', 'Forrest Gump ', 'Four Weddings and a Funeral ', 'Lion King, The ', 'Mask, The ', 'Maverick ', 'Firm, The ', 'Fugitive, The ', 'Hudsucker Proxy, The ', 'Jurassic Park ', 'Much Ado About Nothing ', 'Remains of the Day, The ', 'Searching for Bobby Fischer ', 'Sleepless in Seattle ', 'Blade Runner ', 'Nightmare Before Christmas, The ', 'True Romance ', 'Welcome to the Dollhouse ', 'Home Alone ', 'Aladdin ', 'Terminator 2: Judgment Day ', 'Dances with Wolves ', 'Silence of the Lambs, The ', 'Snow White and the Seven Dwarfs ', 'Fargo ', 'Mystery Science Theater 3000: The Movie ', 'Truth About Cats & Dogs, The ', 'Cold Comfort Farm ', 'Rock, The ', 'Twister ', 'Independence Day (ID4) ', 'Cable Guy, The ', 'Frighteners, The ', 'Lone Star ', 'Phenomenon ', 'Godfather, The ', 'Bound ', 'Wizard of Oz, The ', 'Gone with the Wind ', 'Citizen Kane ', '2001: A Space Odyssey ', 'Mr. Smith Goes to Washington ', 'Big Night ', 'Sound of Music, The ', 'Die Hard ', 'Long Kiss Goodnight, The ', 'Ghost and the Darkness, The ', 'Swingers ', 'Willy Wonka and the Chocolate Factory ', 'Fish Called Wanda, A ', \"Monty Python's Life of Brian \", 'Reservoir Dogs ', 'Platoon ', 'Basic Instinct ', 'Top Gun ', 'On Golden Pond ', 'Abyss, The ', 'Monty Python and the Holy Grail ', 'Wrong Trousers, The ', 'Cinema Paradiso ', 'Empire Strikes Back, The ', 'Princess Bride, The ', 'Raiders of the Lost Ark ', 'Brazil ', 'Aliens ', 'Good, The Bad and The Ugly, The ', '12 Angry Men ', 'Clockwork Orange, A ', 'Apocalypse Now ', 'Return of the Jedi ', 'GoodFellas ', 'Alien ', 'Army of Darkness ', 'Psycho ', 'Blues Brothers, The ', 'Godfather: Part II, The ', 'Full Metal Jacket ', 'Henry V ', 'Amadeus ', 'Raging Bull ', 'Right Stuff, The ', 'Sting, The ', 'Terminator, The ', 'Dead Poets Society ', 'Graduate, The ', 'Nikita (La Femme Nikita) ', 'Bridge on the River Kwai, The ', 'Shining, The ', 'Groundhog Day ', 'Unforgiven ', 'Back to the Future ', 'Patton ', 'Young Frankenstein ', 'This Is Spinal Tap ', 'Indiana Jones and the Last Crusade ', 'M*A*S*H ', 'Room with a View, A ', 'Pink Floyd - The Wall ', 'Field of Dreams ', 'When Harry Met Sally... ', \"Bram Stoker's Dracula \", 'Cape Fear ', 'Nightmare on Elm Street, A ', 'Star Trek: First Contact ', 'Sling Blade ', '101 Dalmatians ', 'Die Hard 2 ', 'Star Trek VI: The Undiscovered Country ', 'Star Trek: The Wrath of Khan ', 'Star Trek III: The Search for Spock ', 'Star Trek IV: The Voyage Home ', 'Batman Returns ', 'Young Guns ', 'Under Siege ', 'Jaws ', 'Mars Attacks! ', 'Jerry Maguire ', 'Raising Arizona ', 'Sneakers ', 'Beavis and Butt-head Do America ', 'Last of the Mohicans, The ', 'Kolya ', 'Jungle2Jungle ', \"Devil's Own, The \", 'Chasing Amy ', 'Grosse Pointe Blank ', 'Austin Powers: International Man of Mystery ', 'Fifth Element, The ', 'Lost World: Jurassic Park, The ', \"My Best Friend's Wedding \", 'Men in Black ', 'Contact ', 'George of the Jungle ', 'Event Horizon ', 'Mimic ', 'Hunt for Red October, The ', 'Chasing Amy ', 'Full Monty, The ', 'Gattaca ', 'Starship Troopers ', 'Good Will Hunting ', 'Heat ', 'Sabrina ', 'Sense and Sensibility ', 'Leaving Las Vegas ', 'River Wild, The ', 'Time to Kill, A ', 'Emma ', 'Tin Cup ', 'Secrets & Lies ', 'English Patient, The ', 'Scream ', 'Evita ', 'Absolute Power ', 'Rosewood ', 'Donnie Brasco ', 'Liar Liar ', 'Face/Off ', 'Air Force One ', 'In & Out ', 'L.A. Confidential ', \"Ulee's Gold \", 'Fly Away Home ', \"Devil's Advocate, The \", 'Rainmaker, The ', 'Titanic ', 'Apt Pupil ', 'As Good As It Gets ', 'In the Name of the Father ', \"Schindler's List \", 'Everyone Says I Love You ', 'Mother ', 'Murder at 1600 ', \"Dante's Peak \", 'Lost Highway ', 'Crash ', 'G.I. Jane ', 'Cop Land ', 'Conspiracy Theory ', 'Edge, The ', 'Kiss the Girls ', 'Game, The ', 'Boogie Nights ', 'Alien: Resurrection ', 'Jackie Brown ', 'Wag the Dog ', \"One Flew Over the Cuckoo's Nest \", 'Spawn ', 'Clueless ', 'Miracle on 34th Street ', 'Star Trek: Generations ', \"Muriel's Wedding \", 'Adventures of Priscilla, Queen of the Desert, The ', 'True Lies ', 'Mrs. Doubtfire ', 'Ghost ', 'Batman ', 'Pinocchio ', 'Mission: Impossible ', 'Close Shave, A ', 'Kingpin ', 'Nutty Professor, The ', 'Cinderella ', 'Mary Poppins ', \"William Shakespeare's Romeo and Juliet \", 'E.T. the Extra-Terrestrial ', 'To Kill a Mockingbird ', 'Harold and Maude ', 'Highlander ', 'Fantasia ', 'Heathers ', 'Butch Cassidy and the Sundance Kid ', 'Birds, The ', 'Carrie ', 'Star Trek: The Motion Picture ', 'Grease ', \"Jackie Chan's First Strike \", 'Like Water For Chocolate (Como agua para chocolate) ', 'Tombstone ', 'Courage Under Fire ', 'Dragonheart ', 'James and the Giant Peach ', 'Dr. Strangelove or: How I Learned to Stop Worrying and Love the Bomb ', 'Trainspotting ', 'First Wives Club, The ', 'Philadelphia Story, The ', 'Vertigo ', 'North by Northwest ', 'Some Like It Hot ', 'Casablanca ', 'Maltese Falcon, The ', 'My Fair Lady ', \"It's a Wonderful Life \", 'African Queen, The ', 'Dumbo ', 'Bonnie and Clyde ', 'People vs. Larry Flynt, The ', 'My Left Foot ', 'Magnificent Seven, The ', 'Lawrence of Arabia ', 'Annie Hall ', 'Boot, Das ', 'Great Escape, The ', 'Deer Hunter, The ', 'Cool Hand Luke ', 'Ben-Hur ', 'Gandhi ', 'Killing Fields, The ', 'Shine ', 'Broken Arrow ', 'Die Hard: With a Vengeance ', 'Waterworld ', 'Interview with the Vampire ', 'Clear and Present Danger ', 'Speed ', 'Piano, The ', 'Beauty and the Beast ', 'Primal Fear ', 'Hunchback of Notre Dame, The ', 'Eraser ', 'Rear Window ', 'Sleepers ', 'Crying Game, The ', 'Glory ', 'Chinatown ', 'Stand by Me ', 'Manchurian Candidate, The ', 'Arsenic and Old Lace ', 'Fried Green Tomatoes ', 'Being There ', 'Alien 3 ', 'Volcano ', 'Conan the Barbarian ', 'I Know What You Did Last Summer ', 'In the Line of Fire ', 'Executive Decision ', 'Seven Years in Tibet ', 'American President, The ', 'Little Women ', \"Singin' in the Rain \", 'Sex, Lies, and Videotape ', 'Strictly Ballroom ', 'Dave ', 'Philadelphia ', 'Pretty Woman ', 'Ransom ', 'Real Genius ', 'Benny & Joon ', 'Saint, The ', 'Amistad ', 'Tomorrow Never Dies ', 'Father of the Bride Part II ', 'Beautiful Girls ', 'Happy Gilmore ', 'One Fine Day ', 'That Thing You Do! ', 'Michael ', 'Peacemaker, The ', 'Scream 2 ', 'Down Periscope ', 'Craft, The ', 'Private Parts ', 'Con Air ', 'Grumpier Old Men ', 'Multiplicity ']\n"
     ]
    }
   ],
   "source": [
    "# 1. First find the movies that have more than 100 ratings(use merge, groupby and count). Extract the movie titles in a list.\n",
    "ratings_count = data_df.groupby('movie id').rating.count().rename(\"rating_count\")\n",
    "min_100_df =  pd.DataFrame(ratings_count[ratings_count >= 100])\n",
    "min_100_df = min_100_df.merge(item_df[['movie id', 'movie title']].set_index('movie id'),\n",
    "                              how='left',\n",
    "                              on='movie id')\n",
    "min_100_ratings_movie_titles = list(min_100_df['movie title'])\n",
    "print('There are {} movies that have more than 100 ratings. Here is the list:'.format(len(min_100_ratings_movie_titles)))\n",
    "print(min_100_ratings_movie_titles)"
   ]
  },
  {
   "cell_type": "code",
   "execution_count": 180,
   "metadata": {},
   "outputs": [
    {
     "data": {
      "text/html": [
       "<div>\n",
       "<style scoped>\n",
       "    .dataframe tbody tr th:only-of-type {\n",
       "        vertical-align: middle;\n",
       "    }\n",
       "\n",
       "    .dataframe tbody tr th {\n",
       "        vertical-align: top;\n",
       "    }\n",
       "\n",
       "    .dataframe thead th {\n",
       "        text-align: right;\n",
       "    }\n",
       "</style>\n",
       "<table border=\"1\" class=\"dataframe\">\n",
       "  <thead>\n",
       "    <tr style=\"text-align: right;\">\n",
       "      <th></th>\n",
       "      <th>rating_avg</th>\n",
       "      <th>movie title</th>\n",
       "    </tr>\n",
       "    <tr>\n",
       "      <th>movie id</th>\n",
       "      <th></th>\n",
       "      <th></th>\n",
       "    </tr>\n",
       "  </thead>\n",
       "  <tbody>\n",
       "    <tr>\n",
       "      <th>1293</th>\n",
       "      <td>5.000000</td>\n",
       "      <td>Star Kid</td>\n",
       "    </tr>\n",
       "    <tr>\n",
       "      <th>1467</th>\n",
       "      <td>5.000000</td>\n",
       "      <td>Saint of Fort Washington, The</td>\n",
       "    </tr>\n",
       "    <tr>\n",
       "      <th>1653</th>\n",
       "      <td>5.000000</td>\n",
       "      <td>Entertaining Angels: The Dorothy Day Story</td>\n",
       "    </tr>\n",
       "    <tr>\n",
       "      <th>814</th>\n",
       "      <td>5.000000</td>\n",
       "      <td>Great Day in Harlem, A</td>\n",
       "    </tr>\n",
       "    <tr>\n",
       "      <th>1122</th>\n",
       "      <td>5.000000</td>\n",
       "      <td>They Made Me a Criminal</td>\n",
       "    </tr>\n",
       "    <tr>\n",
       "      <th>1599</th>\n",
       "      <td>5.000000</td>\n",
       "      <td>Someone Else's America</td>\n",
       "    </tr>\n",
       "    <tr>\n",
       "      <th>1201</th>\n",
       "      <td>5.000000</td>\n",
       "      <td>Marlene Dietrich: Shadow and Light (</td>\n",
       "    </tr>\n",
       "    <tr>\n",
       "      <th>1189</th>\n",
       "      <td>5.000000</td>\n",
       "      <td>Prefontaine</td>\n",
       "    </tr>\n",
       "    <tr>\n",
       "      <th>1500</th>\n",
       "      <td>5.000000</td>\n",
       "      <td>Santa with Muscles</td>\n",
       "    </tr>\n",
       "    <tr>\n",
       "      <th>1536</th>\n",
       "      <td>5.000000</td>\n",
       "      <td>Aiqing wansui</td>\n",
       "    </tr>\n",
       "    <tr>\n",
       "      <th>1449</th>\n",
       "      <td>4.625000</td>\n",
       "      <td>Pather Panchali</td>\n",
       "    </tr>\n",
       "    <tr>\n",
       "      <th>1642</th>\n",
       "      <td>4.500000</td>\n",
       "      <td>Some Mother's Son</td>\n",
       "    </tr>\n",
       "    <tr>\n",
       "      <th>119</th>\n",
       "      <td>4.500000</td>\n",
       "      <td>Maya Lin: A Strong Clear Vision</td>\n",
       "    </tr>\n",
       "    <tr>\n",
       "      <th>1398</th>\n",
       "      <td>4.500000</td>\n",
       "      <td>Anna</td>\n",
       "    </tr>\n",
       "    <tr>\n",
       "      <th>1594</th>\n",
       "      <td>4.500000</td>\n",
       "      <td>Everest</td>\n",
       "    </tr>\n",
       "    <tr>\n",
       "      <th>408</th>\n",
       "      <td>4.491071</td>\n",
       "      <td>Close Shave, A</td>\n",
       "    </tr>\n",
       "    <tr>\n",
       "      <th>318</th>\n",
       "      <td>4.466443</td>\n",
       "      <td>Schindler's List</td>\n",
       "    </tr>\n",
       "    <tr>\n",
       "      <th>169</th>\n",
       "      <td>4.466102</td>\n",
       "      <td>Wrong Trousers, The</td>\n",
       "    </tr>\n",
       "    <tr>\n",
       "      <th>483</th>\n",
       "      <td>4.456790</td>\n",
       "      <td>Casablanca</td>\n",
       "    </tr>\n",
       "    <tr>\n",
       "      <th>114</th>\n",
       "      <td>4.447761</td>\n",
       "      <td>Wallace &amp; Gromit: The Best of Aardman Animation</td>\n",
       "    </tr>\n",
       "    <tr>\n",
       "      <th>64</th>\n",
       "      <td>4.445230</td>\n",
       "      <td>Shawshank Redemption, The</td>\n",
       "    </tr>\n",
       "    <tr>\n",
       "      <th>603</th>\n",
       "      <td>4.387560</td>\n",
       "      <td>Rear Window</td>\n",
       "    </tr>\n",
       "    <tr>\n",
       "      <th>12</th>\n",
       "      <td>4.385768</td>\n",
       "      <td>Usual Suspects, The</td>\n",
       "    </tr>\n",
       "    <tr>\n",
       "      <th>50</th>\n",
       "      <td>4.358491</td>\n",
       "      <td>Star Wars</td>\n",
       "    </tr>\n",
       "    <tr>\n",
       "      <th>178</th>\n",
       "      <td>4.344000</td>\n",
       "      <td>12 Angry Men</td>\n",
       "    </tr>\n",
       "    <tr>\n",
       "      <th>513</th>\n",
       "      <td>4.333333</td>\n",
       "      <td>Third Man, The</td>\n",
       "    </tr>\n",
       "    <tr>\n",
       "      <th>1639</th>\n",
       "      <td>4.333333</td>\n",
       "      <td>Bitter Sugar (Azucar Amargo)</td>\n",
       "    </tr>\n",
       "    <tr>\n",
       "      <th>1191</th>\n",
       "      <td>4.333333</td>\n",
       "      <td>Letter From Death Row, A</td>\n",
       "    </tr>\n",
       "    <tr>\n",
       "      <th>134</th>\n",
       "      <td>4.292929</td>\n",
       "      <td>Citizen Kane</td>\n",
       "    </tr>\n",
       "    <tr>\n",
       "      <th>963</th>\n",
       "      <td>4.292683</td>\n",
       "      <td>Some Folks Call It a Sling Blade</td>\n",
       "    </tr>\n",
       "    <tr>\n",
       "      <th>...</th>\n",
       "      <td>...</td>\n",
       "      <td>...</td>\n",
       "    </tr>\n",
       "    <tr>\n",
       "      <th>1576</th>\n",
       "      <td>1.000000</td>\n",
       "      <td>Hungarian Fairy Tale, A</td>\n",
       "    </tr>\n",
       "    <tr>\n",
       "      <th>1575</th>\n",
       "      <td>1.000000</td>\n",
       "      <td>I, Worst of All (Yo, la peor de todas)</td>\n",
       "    </tr>\n",
       "    <tr>\n",
       "      <th>1574</th>\n",
       "      <td>1.000000</td>\n",
       "      <td>Pharaoh's Army</td>\n",
       "    </tr>\n",
       "    <tr>\n",
       "      <th>1566</th>\n",
       "      <td>1.000000</td>\n",
       "      <td>Man from Down Under, The</td>\n",
       "    </tr>\n",
       "    <tr>\n",
       "      <th>1572</th>\n",
       "      <td>1.000000</td>\n",
       "      <td>Wend Kuuni (God's Gift)</td>\n",
       "    </tr>\n",
       "    <tr>\n",
       "      <th>1571</th>\n",
       "      <td>1.000000</td>\n",
       "      <td>Touki Bouki (Journey of the Hyena)</td>\n",
       "    </tr>\n",
       "    <tr>\n",
       "      <th>1570</th>\n",
       "      <td>1.000000</td>\n",
       "      <td>Quartier Mozart</td>\n",
       "    </tr>\n",
       "    <tr>\n",
       "      <th>1569</th>\n",
       "      <td>1.000000</td>\n",
       "      <td>Vie est belle, La (Life is Rosey)</td>\n",
       "    </tr>\n",
       "    <tr>\n",
       "      <th>1586</th>\n",
       "      <td>1.000000</td>\n",
       "      <td>Lashou shentan</td>\n",
       "    </tr>\n",
       "    <tr>\n",
       "      <th>1563</th>\n",
       "      <td>1.000000</td>\n",
       "      <td>Promise, The (Versprechen, Das)</td>\n",
       "    </tr>\n",
       "    <tr>\n",
       "      <th>858</th>\n",
       "      <td>1.000000</td>\n",
       "      <td>Amityville: Dollhouse</td>\n",
       "    </tr>\n",
       "    <tr>\n",
       "      <th>1562</th>\n",
       "      <td>1.000000</td>\n",
       "      <td>Eye of Vichy, The (Oeil de Vichy, L')</td>\n",
       "    </tr>\n",
       "    <tr>\n",
       "      <th>852</th>\n",
       "      <td>1.000000</td>\n",
       "      <td>Bloody Child, The</td>\n",
       "    </tr>\n",
       "    <tr>\n",
       "      <th>1568</th>\n",
       "      <td>1.000000</td>\n",
       "      <td>Vermont Is For Lovers</td>\n",
       "    </tr>\n",
       "    <tr>\n",
       "      <th>1626</th>\n",
       "      <td>1.000000</td>\n",
       "      <td>Nobody Loves Me (Keiner liebt mich)</td>\n",
       "    </tr>\n",
       "    <tr>\n",
       "      <th>830</th>\n",
       "      <td>1.000000</td>\n",
       "      <td>Power 98</td>\n",
       "    </tr>\n",
       "    <tr>\n",
       "      <th>1363</th>\n",
       "      <td>1.000000</td>\n",
       "      <td>Leopard Son, The</td>\n",
       "    </tr>\n",
       "    <tr>\n",
       "      <th>1621</th>\n",
       "      <td>1.000000</td>\n",
       "      <td>Butterfly Kiss</td>\n",
       "    </tr>\n",
       "    <tr>\n",
       "      <th>1618</th>\n",
       "      <td>1.000000</td>\n",
       "      <td>King of New York</td>\n",
       "    </tr>\n",
       "    <tr>\n",
       "      <th>439</th>\n",
       "      <td>1.000000</td>\n",
       "      <td>Amityville: A New Generation</td>\n",
       "    </tr>\n",
       "    <tr>\n",
       "      <th>1546</th>\n",
       "      <td>1.000000</td>\n",
       "      <td>Shadows (Cienie)</td>\n",
       "    </tr>\n",
       "    <tr>\n",
       "      <th>1374</th>\n",
       "      <td>1.000000</td>\n",
       "      <td>Falling in Love Again</td>\n",
       "    </tr>\n",
       "    <tr>\n",
       "      <th>1548</th>\n",
       "      <td>1.000000</td>\n",
       "      <td>The Courtyard</td>\n",
       "    </tr>\n",
       "    <tr>\n",
       "      <th>1373</th>\n",
       "      <td>1.000000</td>\n",
       "      <td>Good Morning</td>\n",
       "    </tr>\n",
       "    <tr>\n",
       "      <th>437</th>\n",
       "      <td>1.000000</td>\n",
       "      <td>Amityville 1992: It's About Time</td>\n",
       "    </tr>\n",
       "    <tr>\n",
       "      <th>1601</th>\n",
       "      <td>1.000000</td>\n",
       "      <td>Office Killer</td>\n",
       "    </tr>\n",
       "    <tr>\n",
       "      <th>1557</th>\n",
       "      <td>1.000000</td>\n",
       "      <td>Yankee Zulu</td>\n",
       "    </tr>\n",
       "    <tr>\n",
       "      <th>1559</th>\n",
       "      <td>1.000000</td>\n",
       "      <td>Hostile Intentions</td>\n",
       "    </tr>\n",
       "    <tr>\n",
       "      <th>1561</th>\n",
       "      <td>1.000000</td>\n",
       "      <td>Tigrero: A Film That Was Never Made</td>\n",
       "    </tr>\n",
       "    <tr>\n",
       "      <th>1364</th>\n",
       "      <td>1.000000</td>\n",
       "      <td>Bird of Prey</td>\n",
       "    </tr>\n",
       "  </tbody>\n",
       "</table>\n",
       "<p>1682 rows × 2 columns</p>\n",
       "</div>"
      ],
      "text/plain": [
       "          rating_avg                                       movie title\n",
       "movie id                                                              \n",
       "1293        5.000000                                         Star Kid \n",
       "1467        5.000000                    Saint of Fort Washington, The \n",
       "1653        5.000000       Entertaining Angels: The Dorothy Day Story \n",
       "814         5.000000                           Great Day in Harlem, A \n",
       "1122        5.000000                          They Made Me a Criminal \n",
       "1599        5.000000                           Someone Else's America \n",
       "1201        5.000000              Marlene Dietrich: Shadow and Light (\n",
       "1189        5.000000                                      Prefontaine \n",
       "1500        5.000000                               Santa with Muscles \n",
       "1536        5.000000                                    Aiqing wansui \n",
       "1449        4.625000                                  Pather Panchali \n",
       "1642        4.500000                                Some Mother's Son \n",
       "119         4.500000                  Maya Lin: A Strong Clear Vision \n",
       "1398        4.500000                                             Anna \n",
       "1594        4.500000                                          Everest \n",
       "408         4.491071                                   Close Shave, A \n",
       "318         4.466443                                 Schindler's List \n",
       "169         4.466102                              Wrong Trousers, The \n",
       "483         4.456790                                       Casablanca \n",
       "114         4.447761  Wallace & Gromit: The Best of Aardman Animation \n",
       "64          4.445230                        Shawshank Redemption, The \n",
       "603         4.387560                                      Rear Window \n",
       "12          4.385768                              Usual Suspects, The \n",
       "50          4.358491                                        Star Wars \n",
       "178         4.344000                                     12 Angry Men \n",
       "513         4.333333                                   Third Man, The \n",
       "1639        4.333333                     Bitter Sugar (Azucar Amargo) \n",
       "1191        4.333333                         Letter From Death Row, A \n",
       "134         4.292929                                     Citizen Kane \n",
       "963         4.292683                 Some Folks Call It a Sling Blade \n",
       "...              ...                                               ...\n",
       "1576        1.000000                          Hungarian Fairy Tale, A \n",
       "1575        1.000000           I, Worst of All (Yo, la peor de todas) \n",
       "1574        1.000000                                   Pharaoh's Army \n",
       "1566        1.000000                         Man from Down Under, The \n",
       "1572        1.000000                          Wend Kuuni (God's Gift) \n",
       "1571        1.000000               Touki Bouki (Journey of the Hyena) \n",
       "1570        1.000000                                  Quartier Mozart \n",
       "1569        1.000000                Vie est belle, La (Life is Rosey) \n",
       "1586        1.000000                                   Lashou shentan \n",
       "1563        1.000000                  Promise, The (Versprechen, Das) \n",
       "858         1.000000                            Amityville: Dollhouse \n",
       "1562        1.000000            Eye of Vichy, The (Oeil de Vichy, L') \n",
       "852         1.000000                                Bloody Child, The \n",
       "1568        1.000000                            Vermont Is For Lovers \n",
       "1626        1.000000              Nobody Loves Me (Keiner liebt mich) \n",
       "830         1.000000                                         Power 98 \n",
       "1363        1.000000                                 Leopard Son, The \n",
       "1621        1.000000                                   Butterfly Kiss \n",
       "1618        1.000000                                 King of New York \n",
       "439         1.000000                     Amityville: A New Generation \n",
       "1546        1.000000                                 Shadows (Cienie) \n",
       "1374        1.000000                            Falling in Love Again \n",
       "1548        1.000000                                    The Courtyard \n",
       "1373        1.000000                                     Good Morning \n",
       "437         1.000000                 Amityville 1992: It's About Time \n",
       "1601        1.000000                                    Office Killer \n",
       "1557        1.000000                                      Yankee Zulu \n",
       "1559        1.000000                               Hostile Intentions \n",
       "1561        1.000000              Tigrero: A Film That Was Never Made \n",
       "1364        1.000000                                     Bird of Prey \n",
       "\n",
       "[1682 rows x 2 columns]"
      ]
     },
     "execution_count": 180,
     "metadata": {},
     "output_type": "execute_result"
    }
   ],
   "source": [
    "# 2. Find the average rating of all the movies and sort them in the descending order. You will have to use the .merge() function to reach to a data set through which you can get the names and the average rating.\n",
    "avg_ratings = pd.DataFrame(data_df.groupby('movie id').rating.mean().sort_values(ascending=False).rename(\"rating_avg\"))\n",
    "avg_ratings = avg_ratings.merge(item_df[['movie id', 'movie title']].set_index('movie id'),\n",
    "                                how='left',\n",
    "                                on='movie id')\n",
    "avg_ratings"
   ]
  },
  {
   "cell_type": "code",
   "execution_count": 182,
   "metadata": {},
   "outputs": [
    {
     "data": {
      "text/html": [
       "<div>\n",
       "<style scoped>\n",
       "    .dataframe tbody tr th:only-of-type {\n",
       "        vertical-align: middle;\n",
       "    }\n",
       "\n",
       "    .dataframe tbody tr th {\n",
       "        vertical-align: top;\n",
       "    }\n",
       "\n",
       "    .dataframe thead th {\n",
       "        text-align: right;\n",
       "    }\n",
       "</style>\n",
       "<table border=\"1\" class=\"dataframe\">\n",
       "  <thead>\n",
       "    <tr style=\"text-align: right;\">\n",
       "      <th></th>\n",
       "      <th>rating_avg</th>\n",
       "      <th>movie title</th>\n",
       "    </tr>\n",
       "    <tr>\n",
       "      <th>movie id</th>\n",
       "      <th></th>\n",
       "      <th></th>\n",
       "    </tr>\n",
       "  </thead>\n",
       "  <tbody>\n",
       "    <tr>\n",
       "      <th>408</th>\n",
       "      <td>4.491071</td>\n",
       "      <td>Close Shave, A</td>\n",
       "    </tr>\n",
       "    <tr>\n",
       "      <th>318</th>\n",
       "      <td>4.466443</td>\n",
       "      <td>Schindler's List</td>\n",
       "    </tr>\n",
       "    <tr>\n",
       "      <th>169</th>\n",
       "      <td>4.466102</td>\n",
       "      <td>Wrong Trousers, The</td>\n",
       "    </tr>\n",
       "    <tr>\n",
       "      <th>483</th>\n",
       "      <td>4.456790</td>\n",
       "      <td>Casablanca</td>\n",
       "    </tr>\n",
       "    <tr>\n",
       "      <th>64</th>\n",
       "      <td>4.445230</td>\n",
       "      <td>Shawshank Redemption, The</td>\n",
       "    </tr>\n",
       "    <tr>\n",
       "      <th>603</th>\n",
       "      <td>4.387560</td>\n",
       "      <td>Rear Window</td>\n",
       "    </tr>\n",
       "    <tr>\n",
       "      <th>12</th>\n",
       "      <td>4.385768</td>\n",
       "      <td>Usual Suspects, The</td>\n",
       "    </tr>\n",
       "    <tr>\n",
       "      <th>50</th>\n",
       "      <td>4.358491</td>\n",
       "      <td>Star Wars</td>\n",
       "    </tr>\n",
       "    <tr>\n",
       "      <th>178</th>\n",
       "      <td>4.344000</td>\n",
       "      <td>12 Angry Men</td>\n",
       "    </tr>\n",
       "    <tr>\n",
       "      <th>134</th>\n",
       "      <td>4.292929</td>\n",
       "      <td>Citizen Kane</td>\n",
       "    </tr>\n",
       "    <tr>\n",
       "      <th>427</th>\n",
       "      <td>4.292237</td>\n",
       "      <td>To Kill a Mockingbird</td>\n",
       "    </tr>\n",
       "    <tr>\n",
       "      <th>357</th>\n",
       "      <td>4.291667</td>\n",
       "      <td>One Flew Over the Cuckoo's Nest</td>\n",
       "    </tr>\n",
       "    <tr>\n",
       "      <th>98</th>\n",
       "      <td>4.289744</td>\n",
       "      <td>Silence of the Lambs, The</td>\n",
       "    </tr>\n",
       "    <tr>\n",
       "      <th>480</th>\n",
       "      <td>4.284916</td>\n",
       "      <td>North by Northwest</td>\n",
       "    </tr>\n",
       "    <tr>\n",
       "      <th>127</th>\n",
       "      <td>4.283293</td>\n",
       "      <td>Godfather, The</td>\n",
       "    </tr>\n",
       "    <tr>\n",
       "      <th>285</th>\n",
       "      <td>4.265432</td>\n",
       "      <td>Secrets &amp; Lies</td>\n",
       "    </tr>\n",
       "    <tr>\n",
       "      <th>272</th>\n",
       "      <td>4.262626</td>\n",
       "      <td>Good Will Hunting</td>\n",
       "    </tr>\n",
       "    <tr>\n",
       "      <th>657</th>\n",
       "      <td>4.259542</td>\n",
       "      <td>Manchurian Candidate, The</td>\n",
       "    </tr>\n",
       "    <tr>\n",
       "      <th>474</th>\n",
       "      <td>4.252577</td>\n",
       "      <td>Dr. Strangelove or: How I Learned to Stop Worr...</td>\n",
       "    </tr>\n",
       "    <tr>\n",
       "      <th>174</th>\n",
       "      <td>4.252381</td>\n",
       "      <td>Raiders of the Lost Ark</td>\n",
       "    </tr>\n",
       "    <tr>\n",
       "      <th>479</th>\n",
       "      <td>4.251397</td>\n",
       "      <td>Vertigo</td>\n",
       "    </tr>\n",
       "    <tr>\n",
       "      <th>313</th>\n",
       "      <td>4.245714</td>\n",
       "      <td>Titanic</td>\n",
       "    </tr>\n",
       "    <tr>\n",
       "      <th>511</th>\n",
       "      <td>4.231214</td>\n",
       "      <td>Lawrence of Arabia</td>\n",
       "    </tr>\n",
       "    <tr>\n",
       "      <th>484</th>\n",
       "      <td>4.210145</td>\n",
       "      <td>Maltese Falcon, The</td>\n",
       "    </tr>\n",
       "    <tr>\n",
       "      <th>172</th>\n",
       "      <td>4.204360</td>\n",
       "      <td>Empire Strikes Back, The</td>\n",
       "    </tr>\n",
       "    <tr>\n",
       "      <th>515</th>\n",
       "      <td>4.203980</td>\n",
       "      <td>Boot, Das</td>\n",
       "    </tr>\n",
       "    <tr>\n",
       "      <th>223</th>\n",
       "      <td>4.198529</td>\n",
       "      <td>Sling Blade</td>\n",
       "    </tr>\n",
       "    <tr>\n",
       "      <th>316</th>\n",
       "      <td>4.196429</td>\n",
       "      <td>As Good As It Gets</td>\n",
       "    </tr>\n",
       "    <tr>\n",
       "      <th>187</th>\n",
       "      <td>4.186603</td>\n",
       "      <td>Godfather: Part II, The</td>\n",
       "    </tr>\n",
       "    <tr>\n",
       "      <th>498</th>\n",
       "      <td>4.184211</td>\n",
       "      <td>African Queen, The</td>\n",
       "    </tr>\n",
       "    <tr>\n",
       "      <th>...</th>\n",
       "      <td>...</td>\n",
       "      <td>...</td>\n",
       "    </tr>\n",
       "    <tr>\n",
       "      <th>67</th>\n",
       "      <td>3.048544</td>\n",
       "      <td>Ace Ventura: Pet Detective</td>\n",
       "    </tr>\n",
       "    <tr>\n",
       "      <th>679</th>\n",
       "      <td>3.046729</td>\n",
       "      <td>Conan the Barbarian</td>\n",
       "    </tr>\n",
       "    <tr>\n",
       "      <th>1028</th>\n",
       "      <td>3.040541</td>\n",
       "      <td>Grumpier Old Men</td>\n",
       "    </tr>\n",
       "    <tr>\n",
       "      <th>449</th>\n",
       "      <td>3.034188</td>\n",
       "      <td>Star Trek: The Motion Picture</td>\n",
       "    </tr>\n",
       "    <tr>\n",
       "      <th>546</th>\n",
       "      <td>3.031496</td>\n",
       "      <td>Broken Arrow</td>\n",
       "    </tr>\n",
       "    <tr>\n",
       "      <th>476</th>\n",
       "      <td>3.018750</td>\n",
       "      <td>First Wives Club, The</td>\n",
       "    </tr>\n",
       "    <tr>\n",
       "      <th>38</th>\n",
       "      <td>3.008333</td>\n",
       "      <td>Net, The</td>\n",
       "    </tr>\n",
       "    <tr>\n",
       "      <th>289</th>\n",
       "      <td>2.980695</td>\n",
       "      <td>Evita</td>\n",
       "    </tr>\n",
       "    <tr>\n",
       "      <th>53</th>\n",
       "      <td>2.953125</td>\n",
       "      <td>Natural Born Killers</td>\n",
       "    </tr>\n",
       "    <tr>\n",
       "      <th>252</th>\n",
       "      <td>2.943038</td>\n",
       "      <td>Lost World: Jurassic Park, The</td>\n",
       "    </tr>\n",
       "    <tr>\n",
       "      <th>323</th>\n",
       "      <td>2.933333</td>\n",
       "      <td>Dante's Peak</td>\n",
       "    </tr>\n",
       "    <tr>\n",
       "      <th>411</th>\n",
       "      <td>2.914110</td>\n",
       "      <td>Nutty Professor, The</td>\n",
       "    </tr>\n",
       "    <tr>\n",
       "      <th>225</th>\n",
       "      <td>2.908257</td>\n",
       "      <td>101 Dalmatians</td>\n",
       "    </tr>\n",
       "    <tr>\n",
       "      <th>756</th>\n",
       "      <td>2.898438</td>\n",
       "      <td>Father of the Bride Part II</td>\n",
       "    </tr>\n",
       "    <tr>\n",
       "      <th>235</th>\n",
       "      <td>2.847926</td>\n",
       "      <td>Mars Attacks!</td>\n",
       "    </tr>\n",
       "    <tr>\n",
       "      <th>1047</th>\n",
       "      <td>2.835821</td>\n",
       "      <td>Multiplicity</td>\n",
       "    </tr>\n",
       "    <tr>\n",
       "      <th>665</th>\n",
       "      <td>2.830000</td>\n",
       "      <td>Alien 3</td>\n",
       "    </tr>\n",
       "    <tr>\n",
       "      <th>678</th>\n",
       "      <td>2.808219</td>\n",
       "      <td>Volcano</td>\n",
       "    </tr>\n",
       "    <tr>\n",
       "      <th>554</th>\n",
       "      <td>2.803922</td>\n",
       "      <td>Waterworld</td>\n",
       "    </tr>\n",
       "    <tr>\n",
       "      <th>240</th>\n",
       "      <td>2.788462</td>\n",
       "      <td>Beavis and Butt-head Do America</td>\n",
       "    </tr>\n",
       "    <tr>\n",
       "      <th>264</th>\n",
       "      <td>2.742574</td>\n",
       "      <td>Mimic</td>\n",
       "    </tr>\n",
       "    <tr>\n",
       "      <th>926</th>\n",
       "      <td>2.702970</td>\n",
       "      <td>Down Periscope</td>\n",
       "    </tr>\n",
       "    <tr>\n",
       "      <th>259</th>\n",
       "      <td>2.685185</td>\n",
       "      <td>George of the Jungle</td>\n",
       "    </tr>\n",
       "    <tr>\n",
       "      <th>231</th>\n",
       "      <td>2.683099</td>\n",
       "      <td>Batman Returns</td>\n",
       "    </tr>\n",
       "    <tr>\n",
       "      <th>29</th>\n",
       "      <td>2.666667</td>\n",
       "      <td>Batman Forever</td>\n",
       "    </tr>\n",
       "    <tr>\n",
       "      <th>358</th>\n",
       "      <td>2.615385</td>\n",
       "      <td>Spawn</td>\n",
       "    </tr>\n",
       "    <tr>\n",
       "      <th>260</th>\n",
       "      <td>2.574803</td>\n",
       "      <td>Event Horizon</td>\n",
       "    </tr>\n",
       "    <tr>\n",
       "      <th>325</th>\n",
       "      <td>2.546875</td>\n",
       "      <td>Crash</td>\n",
       "    </tr>\n",
       "    <tr>\n",
       "      <th>243</th>\n",
       "      <td>2.439394</td>\n",
       "      <td>Jungle2Jungle</td>\n",
       "    </tr>\n",
       "    <tr>\n",
       "      <th>122</th>\n",
       "      <td>2.339623</td>\n",
       "      <td>Cable Guy, The</td>\n",
       "    </tr>\n",
       "  </tbody>\n",
       "</table>\n",
       "<p>338 rows × 2 columns</p>\n",
       "</div>"
      ],
      "text/plain": [
       "          rating_avg                                        movie title\n",
       "movie id                                                               \n",
       "408         4.491071                                    Close Shave, A \n",
       "318         4.466443                                  Schindler's List \n",
       "169         4.466102                               Wrong Trousers, The \n",
       "483         4.456790                                        Casablanca \n",
       "64          4.445230                         Shawshank Redemption, The \n",
       "603         4.387560                                       Rear Window \n",
       "12          4.385768                               Usual Suspects, The \n",
       "50          4.358491                                         Star Wars \n",
       "178         4.344000                                      12 Angry Men \n",
       "134         4.292929                                      Citizen Kane \n",
       "427         4.292237                             To Kill a Mockingbird \n",
       "357         4.291667                   One Flew Over the Cuckoo's Nest \n",
       "98          4.289744                         Silence of the Lambs, The \n",
       "480         4.284916                                North by Northwest \n",
       "127         4.283293                                    Godfather, The \n",
       "285         4.265432                                    Secrets & Lies \n",
       "272         4.262626                                 Good Will Hunting \n",
       "657         4.259542                         Manchurian Candidate, The \n",
       "474         4.252577  Dr. Strangelove or: How I Learned to Stop Worr...\n",
       "174         4.252381                           Raiders of the Lost Ark \n",
       "479         4.251397                                           Vertigo \n",
       "313         4.245714                                           Titanic \n",
       "511         4.231214                                Lawrence of Arabia \n",
       "484         4.210145                               Maltese Falcon, The \n",
       "172         4.204360                          Empire Strikes Back, The \n",
       "515         4.203980                                         Boot, Das \n",
       "223         4.198529                                       Sling Blade \n",
       "316         4.196429                                As Good As It Gets \n",
       "187         4.186603                           Godfather: Part II, The \n",
       "498         4.184211                                African Queen, The \n",
       "...              ...                                                ...\n",
       "67          3.048544                        Ace Ventura: Pet Detective \n",
       "679         3.046729                               Conan the Barbarian \n",
       "1028        3.040541                                  Grumpier Old Men \n",
       "449         3.034188                     Star Trek: The Motion Picture \n",
       "546         3.031496                                      Broken Arrow \n",
       "476         3.018750                             First Wives Club, The \n",
       "38          3.008333                                          Net, The \n",
       "289         2.980695                                             Evita \n",
       "53          2.953125                              Natural Born Killers \n",
       "252         2.943038                    Lost World: Jurassic Park, The \n",
       "323         2.933333                                      Dante's Peak \n",
       "411         2.914110                              Nutty Professor, The \n",
       "225         2.908257                                    101 Dalmatians \n",
       "756         2.898438                       Father of the Bride Part II \n",
       "235         2.847926                                     Mars Attacks! \n",
       "1047        2.835821                                      Multiplicity \n",
       "665         2.830000                                           Alien 3 \n",
       "678         2.808219                                           Volcano \n",
       "554         2.803922                                        Waterworld \n",
       "240         2.788462                   Beavis and Butt-head Do America \n",
       "264         2.742574                                             Mimic \n",
       "926         2.702970                                    Down Periscope \n",
       "259         2.685185                              George of the Jungle \n",
       "231         2.683099                                    Batman Returns \n",
       "29          2.666667                                    Batman Forever \n",
       "358         2.615385                                             Spawn \n",
       "260         2.574803                                     Event Horizon \n",
       "325         2.546875                                             Crash \n",
       "243         2.439394                                     Jungle2Jungle \n",
       "122         2.339623                                    Cable Guy, The \n",
       "\n",
       "[338 rows x 2 columns]"
      ]
     },
     "execution_count": 182,
     "metadata": {},
     "output_type": "execute_result"
    }
   ],
   "source": [
    "# 3. Use isin(list obtained from 1) to filter out the movies which have more than 100 ratings.\n",
    "# NOTE: movie titles are not reliable as there are may exist different versions of the same film released in different years\n",
    "# thus, it is recommended to merge on movie ids\n",
    "top_movies = avg_ratings[avg_ratings.index.isin(min_100_df.index)]\n",
    "top_movies"
   ]
  },
  {
   "cell_type": "markdown",
   "metadata": {},
   "source": [
    "### Top 25 movies rated 100 and more times"
   ]
  },
  {
   "cell_type": "code",
   "execution_count": 183,
   "metadata": {},
   "outputs": [
    {
     "data": {
      "text/html": [
       "<div>\n",
       "<style scoped>\n",
       "    .dataframe tbody tr th:only-of-type {\n",
       "        vertical-align: middle;\n",
       "    }\n",
       "\n",
       "    .dataframe tbody tr th {\n",
       "        vertical-align: top;\n",
       "    }\n",
       "\n",
       "    .dataframe thead th {\n",
       "        text-align: right;\n",
       "    }\n",
       "</style>\n",
       "<table border=\"1\" class=\"dataframe\">\n",
       "  <thead>\n",
       "    <tr style=\"text-align: right;\">\n",
       "      <th></th>\n",
       "      <th>rating_avg</th>\n",
       "      <th>movie title</th>\n",
       "    </tr>\n",
       "    <tr>\n",
       "      <th>movie id</th>\n",
       "      <th></th>\n",
       "      <th></th>\n",
       "    </tr>\n",
       "  </thead>\n",
       "  <tbody>\n",
       "    <tr>\n",
       "      <th>408</th>\n",
       "      <td>4.491071</td>\n",
       "      <td>Close Shave, A</td>\n",
       "    </tr>\n",
       "    <tr>\n",
       "      <th>318</th>\n",
       "      <td>4.466443</td>\n",
       "      <td>Schindler's List</td>\n",
       "    </tr>\n",
       "    <tr>\n",
       "      <th>169</th>\n",
       "      <td>4.466102</td>\n",
       "      <td>Wrong Trousers, The</td>\n",
       "    </tr>\n",
       "    <tr>\n",
       "      <th>483</th>\n",
       "      <td>4.456790</td>\n",
       "      <td>Casablanca</td>\n",
       "    </tr>\n",
       "    <tr>\n",
       "      <th>64</th>\n",
       "      <td>4.445230</td>\n",
       "      <td>Shawshank Redemption, The</td>\n",
       "    </tr>\n",
       "    <tr>\n",
       "      <th>603</th>\n",
       "      <td>4.387560</td>\n",
       "      <td>Rear Window</td>\n",
       "    </tr>\n",
       "    <tr>\n",
       "      <th>12</th>\n",
       "      <td>4.385768</td>\n",
       "      <td>Usual Suspects, The</td>\n",
       "    </tr>\n",
       "    <tr>\n",
       "      <th>50</th>\n",
       "      <td>4.358491</td>\n",
       "      <td>Star Wars</td>\n",
       "    </tr>\n",
       "    <tr>\n",
       "      <th>178</th>\n",
       "      <td>4.344000</td>\n",
       "      <td>12 Angry Men</td>\n",
       "    </tr>\n",
       "    <tr>\n",
       "      <th>134</th>\n",
       "      <td>4.292929</td>\n",
       "      <td>Citizen Kane</td>\n",
       "    </tr>\n",
       "    <tr>\n",
       "      <th>427</th>\n",
       "      <td>4.292237</td>\n",
       "      <td>To Kill a Mockingbird</td>\n",
       "    </tr>\n",
       "    <tr>\n",
       "      <th>357</th>\n",
       "      <td>4.291667</td>\n",
       "      <td>One Flew Over the Cuckoo's Nest</td>\n",
       "    </tr>\n",
       "    <tr>\n",
       "      <th>98</th>\n",
       "      <td>4.289744</td>\n",
       "      <td>Silence of the Lambs, The</td>\n",
       "    </tr>\n",
       "    <tr>\n",
       "      <th>480</th>\n",
       "      <td>4.284916</td>\n",
       "      <td>North by Northwest</td>\n",
       "    </tr>\n",
       "    <tr>\n",
       "      <th>127</th>\n",
       "      <td>4.283293</td>\n",
       "      <td>Godfather, The</td>\n",
       "    </tr>\n",
       "    <tr>\n",
       "      <th>285</th>\n",
       "      <td>4.265432</td>\n",
       "      <td>Secrets &amp; Lies</td>\n",
       "    </tr>\n",
       "    <tr>\n",
       "      <th>272</th>\n",
       "      <td>4.262626</td>\n",
       "      <td>Good Will Hunting</td>\n",
       "    </tr>\n",
       "    <tr>\n",
       "      <th>657</th>\n",
       "      <td>4.259542</td>\n",
       "      <td>Manchurian Candidate, The</td>\n",
       "    </tr>\n",
       "    <tr>\n",
       "      <th>474</th>\n",
       "      <td>4.252577</td>\n",
       "      <td>Dr. Strangelove or: How I Learned to Stop Worr...</td>\n",
       "    </tr>\n",
       "    <tr>\n",
       "      <th>174</th>\n",
       "      <td>4.252381</td>\n",
       "      <td>Raiders of the Lost Ark</td>\n",
       "    </tr>\n",
       "    <tr>\n",
       "      <th>479</th>\n",
       "      <td>4.251397</td>\n",
       "      <td>Vertigo</td>\n",
       "    </tr>\n",
       "    <tr>\n",
       "      <th>313</th>\n",
       "      <td>4.245714</td>\n",
       "      <td>Titanic</td>\n",
       "    </tr>\n",
       "    <tr>\n",
       "      <th>511</th>\n",
       "      <td>4.231214</td>\n",
       "      <td>Lawrence of Arabia</td>\n",
       "    </tr>\n",
       "    <tr>\n",
       "      <th>484</th>\n",
       "      <td>4.210145</td>\n",
       "      <td>Maltese Falcon, The</td>\n",
       "    </tr>\n",
       "    <tr>\n",
       "      <th>172</th>\n",
       "      <td>4.204360</td>\n",
       "      <td>Empire Strikes Back, The</td>\n",
       "    </tr>\n",
       "  </tbody>\n",
       "</table>\n",
       "</div>"
      ],
      "text/plain": [
       "          rating_avg                                        movie title\n",
       "movie id                                                               \n",
       "408         4.491071                                    Close Shave, A \n",
       "318         4.466443                                  Schindler's List \n",
       "169         4.466102                               Wrong Trousers, The \n",
       "483         4.456790                                        Casablanca \n",
       "64          4.445230                         Shawshank Redemption, The \n",
       "603         4.387560                                       Rear Window \n",
       "12          4.385768                               Usual Suspects, The \n",
       "50          4.358491                                         Star Wars \n",
       "178         4.344000                                      12 Angry Men \n",
       "134         4.292929                                      Citizen Kane \n",
       "427         4.292237                             To Kill a Mockingbird \n",
       "357         4.291667                   One Flew Over the Cuckoo's Nest \n",
       "98          4.289744                         Silence of the Lambs, The \n",
       "480         4.284916                                North by Northwest \n",
       "127         4.283293                                    Godfather, The \n",
       "285         4.265432                                    Secrets & Lies \n",
       "272         4.262626                                 Good Will Hunting \n",
       "657         4.259542                         Manchurian Candidate, The \n",
       "474         4.252577  Dr. Strangelove or: How I Learned to Stop Worr...\n",
       "174         4.252381                           Raiders of the Lost Ark \n",
       "479         4.251397                                           Vertigo \n",
       "313         4.245714                                           Titanic \n",
       "511         4.231214                                Lawrence of Arabia \n",
       "484         4.210145                               Maltese Falcon, The \n",
       "172         4.204360                          Empire Strikes Back, The "
      ]
     },
     "execution_count": 183,
     "metadata": {},
     "output_type": "execute_result"
    }
   ],
   "source": [
    "top_movies[:25]"
   ]
  },
  {
   "cell_type": "markdown",
   "metadata": {},
   "source": [
    "### 10. See gender distribution across different genres check for the validity of the below statements - 10 marks\n",
    "\n",
    "* Men watch more drama than women\n",
    "* Women watch more Sci-Fi than men\n",
    "* Men watch more Romance than women\n"
   ]
  },
  {
   "cell_type": "markdown",
   "metadata": {},
   "source": [
    "1. There is no need to conduct statistical tests around this. Just compare the percentages and comment on the validity of the above statements.\n",
    "\n",
    "2. you might want ot use the .sum(), .div() function here.\n",
    "3. Use number of ratings to validate the numbers. For example, if out of 4000 ratings received by women, 3000 are for drama, we will assume that 75% of the women watch drama."
   ]
  },
  {
   "cell_type": "markdown",
   "metadata": {},
   "source": [
    "### 10.1 Men watch more drama than women - <font color='green'>TRUE</font>"
   ]
  },
  {
   "cell_type": "code",
   "execution_count": 197,
   "metadata": {},
   "outputs": [
    {
     "data": {
      "text/plain": [
       "M    28887\n",
       "F    11008\n",
       "Name: gender, dtype: int64"
      ]
     },
     "execution_count": 197,
     "metadata": {},
     "output_type": "execute_result"
    }
   ],
   "source": [
    "drama_df = item_df[item_df.Drama==1][['movie id','movie title']].set_index('movie id')\n",
    "drama_df = drama_df.merge(data_df[['movie id', 'user id']].set_index('movie id'),\n",
    "                          how='left',\n",
    "                          on='movie id')\n",
    "drama_df = drama_df.merge(user_df[['gender', 'user id']],\n",
    "                          how='left',\n",
    "                          on='user id')\n",
    "drama_df.gender.value_counts()"
   ]
  },
  {
   "cell_type": "markdown",
   "metadata": {},
   "source": [
    "#### Conclusion:\n",
    "\n",
    "Drama genre movies got 11008 women views and 28887 men views, thus, watched by men more often"
   ]
  },
  {
   "cell_type": "markdown",
   "metadata": {},
   "source": [
    "### 10.2 Women watch more Sci-Fi than men - <font color='red'>FALSE</font>"
   ]
  },
  {
   "cell_type": "code",
   "execution_count": 198,
   "metadata": {},
   "outputs": [
    {
     "data": {
      "text/plain": [
       "M    10101\n",
       "F     2629\n",
       "Name: gender, dtype: int64"
      ]
     },
     "execution_count": 198,
     "metadata": {},
     "output_type": "execute_result"
    }
   ],
   "source": [
    "scifi_df = item_df[item_df['Sci-Fi'] == 1][['movie id','movie title']].set_index('movie id')\n",
    "scifi_df = scifi_df.merge(data_df[['movie id', 'user id']].set_index('movie id'),\n",
    "                          how='left',\n",
    "                          on='movie id')\n",
    "scifi_df = scifi_df.merge(user_df[['gender', 'user id']],\n",
    "                          how='left',\n",
    "                          on='user id')\n",
    "scifi_df.gender.value_counts()"
   ]
  },
  {
   "cell_type": "markdown",
   "metadata": {},
   "source": [
    "#### Conclusion:\n",
    "\n",
    "Sci-Fi genre movies got 2629 women views and 10101 men views, thus, watched by men more often"
   ]
  },
  {
   "cell_type": "markdown",
   "metadata": {},
   "source": [
    "### 10.3 Men watch more Romance than women - <font color='green'>TRUE</font>"
   ]
  },
  {
   "cell_type": "code",
   "execution_count": 199,
   "metadata": {},
   "outputs": [
    {
     "data": {
      "text/plain": [
       "M    13603\n",
       "F     5858\n",
       "Name: gender, dtype: int64"
      ]
     },
     "execution_count": 199,
     "metadata": {},
     "output_type": "execute_result"
    }
   ],
   "source": [
    "romance_df = item_df[item_df['Romance'] == 1][['movie id','movie title']].set_index('movie id')\n",
    "romance_df = romance_df.merge(data_df[['movie id', 'user id']].set_index('movie id'),\n",
    "                          how='left',\n",
    "                          on='movie id')\n",
    "romance_df = romance_df.merge(user_df[['gender', 'user id']],\n",
    "                          how='left',\n",
    "                          on='user id')\n",
    "romance_df.gender.value_counts()"
   ]
  },
  {
   "cell_type": "markdown",
   "metadata": {},
   "source": [
    "#### Conclusion:\n",
    "\n",
    "Romance movies got 5858 women views and 13603 men views, thus, watched by men more often"
   ]
  },
  {
   "cell_type": "code",
   "execution_count": null,
   "metadata": {},
   "outputs": [],
   "source": []
  }
 ],
 "metadata": {
  "kernelspec": {
   "display_name": "Python 3",
   "language": "python",
   "name": "python3"
  },
  "language_info": {
   "codemirror_mode": {
    "name": "ipython",
    "version": 3
   },
   "file_extension": ".py",
   "mimetype": "text/x-python",
   "name": "python",
   "nbconvert_exporter": "python",
   "pygments_lexer": "ipython3",
   "version": "3.7.6"
  }
 },
 "nbformat": 4,
 "nbformat_minor": 4
}
